{
 "cells": [
  {
   "cell_type": "code",
   "execution_count": 24,
   "metadata": {
    "ExecuteTime": {
     "end_time": "2021-09-22T05:17:15.306269Z",
     "start_time": "2021-09-22T05:17:15.288918Z"
    }
   },
   "outputs": [],
   "source": [
    "from __future__ import print_function, division\n",
    "import jupyterthemes.jtplot as jtplot\n",
    "jtplot.style()\n",
    "import numpy as np\n",
    "import pandas as pd\n",
    "import matplotlib as mpl\n",
    "import os, shutil, random, sys\n",
    "from sklearn.metrics import confusion_matrix\n",
    "\n",
    "import matplotlib.pyplot as plt\n",
    "import seaborn as sns\n",
    "%matplotlib inline\n",
    "np.set_printoptions(suppress=True)"
   ]
  },
  {
   "cell_type": "code",
   "execution_count": 14,
   "metadata": {
    "ExecuteTime": {
     "end_time": "2021-09-22T05:13:02.794858Z",
     "start_time": "2021-09-22T05:13:02.763270Z"
    }
   },
   "outputs": [],
   "source": [
    "train_data = pd.read_csv('Week2_Iris鸢尾花数据集/TrainData.csv').values\n",
    "test_data = pd.read_csv('Week2_Iris鸢尾花数据集/TestData.csv').values"
   ]
  },
  {
   "cell_type": "markdown",
   "metadata": {},
   "source": [
    "# keras方法"
   ]
  },
  {
   "cell_type": "code",
   "execution_count": 15,
   "metadata": {
    "ExecuteTime": {
     "end_time": "2021-09-22T05:13:03.806694Z",
     "start_time": "2021-09-22T05:13:03.799198Z"
    }
   },
   "outputs": [],
   "source": [
    "from keras.models import Sequential, Model\n",
    "from keras.utils import to_categorical  # one_hot编码\n",
    "from keras.layers import Dense\n",
    "from keras.layers import Flatten, Activation, Dropout  # 特殊功能层\n",
    "from keras.optimizers import Adadelta, Adam, RMSprop\n",
    "from keras import losses, metrics"
   ]
  },
  {
   "cell_type": "code",
   "execution_count": 16,
   "metadata": {
    "ExecuteTime": {
     "end_time": "2021-09-22T05:13:04.290540Z",
     "start_time": "2021-09-22T05:13:04.269035Z"
    }
   },
   "outputs": [],
   "source": [
    "X_train = train_data[:,:4]\n",
    "y_train = to_categorical(train_data[:,4])\n",
    "X_test = test_data[:,:4]\n",
    "test_y = test_data[:,4]\n",
    "y_test = to_categorical(test_data[:,4])"
   ]
  },
  {
   "cell_type": "code",
   "execution_count": 17,
   "metadata": {
    "ExecuteTime": {
     "end_time": "2021-09-22T05:13:10.341083Z",
     "start_time": "2021-09-22T05:13:05.811958Z"
    }
   },
   "outputs": [
    {
     "name": "stdout",
     "output_type": "stream",
     "text": [
      "Epoch 1/100\n",
      "120/120 [==============================] - 0s 3ms/step - loss: 1.4813 - accuracy: 0.3333\n",
      "Epoch 2/100\n",
      "120/120 [==============================] - 0s 116us/step - loss: 1.2386 - accuracy: 0.3333\n",
      "Epoch 3/100\n",
      "120/120 [==============================] - 0s 128us/step - loss: 1.1423 - accuracy: 0.3333\n",
      "Epoch 4/100\n",
      "120/120 [==============================] - 0s 123us/step - loss: 1.0800 - accuracy: 0.4167\n",
      "Epoch 5/100\n",
      "120/120 [==============================] - 0s 99us/step - loss: 1.0415 - accuracy: 0.4250\n",
      "Epoch 6/100\n",
      "120/120 [==============================] - 0s 116us/step - loss: 1.0028 - accuracy: 0.4167\n",
      "Epoch 7/100\n",
      "120/120 [==============================] - 0s 103us/step - loss: 0.9707 - accuracy: 0.4833\n",
      "Epoch 8/100\n",
      "120/120 [==============================] - 0s 126us/step - loss: 0.9410 - accuracy: 0.5083\n",
      "Epoch 9/100\n",
      "120/120 [==============================] - 0s 120us/step - loss: 0.9091 - accuracy: 0.6583\n",
      "Epoch 10/100\n",
      "120/120 [==============================] - 0s 128us/step - loss: 0.8815 - accuracy: 0.6333\n",
      "Epoch 11/100\n",
      "120/120 [==============================] - 0s 109us/step - loss: 0.8577 - accuracy: 0.6750\n",
      "Epoch 12/100\n",
      "120/120 [==============================] - 0s 126us/step - loss: 0.8291 - accuracy: 0.7000\n",
      "Epoch 13/100\n",
      "120/120 [==============================] - 0s 131us/step - loss: 0.8045 - accuracy: 0.7167\n",
      "Epoch 14/100\n",
      "120/120 [==============================] - 0s 113us/step - loss: 0.7822 - accuracy: 0.6750\n",
      "Epoch 15/100\n",
      "120/120 [==============================] - 0s 114us/step - loss: 0.7633 - accuracy: 0.7583\n",
      "Epoch 16/100\n",
      "120/120 [==============================] - 0s 128us/step - loss: 0.7427 - accuracy: 0.7333\n",
      "Epoch 17/100\n",
      "120/120 [==============================] - 0s 136us/step - loss: 0.7205 - accuracy: 0.8083\n",
      "Epoch 18/100\n",
      "120/120 [==============================] - 0s 79us/step - loss: 0.7009 - accuracy: 0.6667\n",
      "Epoch 19/100\n",
      "120/120 [==============================] - 0s 65us/step - loss: 0.6855 - accuracy: 0.7750\n",
      "Epoch 20/100\n",
      "120/120 [==============================] - 0s 79us/step - loss: 0.6671 - accuracy: 0.8250\n",
      "Epoch 21/100\n",
      "120/120 [==============================] - 0s 97us/step - loss: 0.6462 - accuracy: 0.7000\n",
      "Epoch 22/100\n",
      "120/120 [==============================] - 0s 97us/step - loss: 0.6318 - accuracy: 0.8250\n",
      "Epoch 23/100\n",
      "120/120 [==============================] - 0s 100us/step - loss: 0.6155 - accuracy: 0.8083\n",
      "Epoch 24/100\n",
      "120/120 [==============================] - 0s 77us/step - loss: 0.5995 - accuracy: 0.8000\n",
      "Epoch 25/100\n",
      "120/120 [==============================] - 0s 83us/step - loss: 0.5893 - accuracy: 0.7750\n",
      "Epoch 26/100\n",
      "120/120 [==============================] - 0s 87us/step - loss: 0.5768 - accuracy: 0.9333\n",
      "Epoch 27/100\n",
      "120/120 [==============================] - 0s 85us/step - loss: 0.5661 - accuracy: 0.7833\n",
      "Epoch 28/100\n",
      "120/120 [==============================] - 0s 94us/step - loss: 0.5501 - accuracy: 0.7417\n",
      "Epoch 29/100\n",
      "120/120 [==============================] - 0s 101us/step - loss: 0.5394 - accuracy: 0.9000\n",
      "Epoch 30/100\n",
      "120/120 [==============================] - 0s 102us/step - loss: 0.5263 - accuracy: 0.8833\n",
      "Epoch 31/100\n",
      "120/120 [==============================] - 0s 95us/step - loss: 0.5221 - accuracy: 0.9083\n",
      "Epoch 32/100\n",
      "120/120 [==============================] - 0s 88us/step - loss: 0.5086 - accuracy: 0.7917\n",
      "Epoch 33/100\n",
      "120/120 [==============================] - 0s 88us/step - loss: 0.4956 - accuracy: 0.9167\n",
      "Epoch 34/100\n",
      "120/120 [==============================] - 0s 77us/step - loss: 0.4921 - accuracy: 0.9083\n",
      "Epoch 35/100\n",
      "120/120 [==============================] - 0s 100us/step - loss: 0.4796 - accuracy: 0.8583\n",
      "Epoch 36/100\n",
      "120/120 [==============================] - 0s 149us/step - loss: 0.4695 - accuracy: 0.8917\n",
      "Epoch 37/100\n",
      "120/120 [==============================] - 0s 175us/step - loss: 0.4663 - accuracy: 0.8750\n",
      "Epoch 38/100\n",
      "120/120 [==============================] - 0s 132us/step - loss: 0.4603 - accuracy: 0.9167\n",
      "Epoch 39/100\n",
      "120/120 [==============================] - 0s 151us/step - loss: 0.4471 - accuracy: 0.9167\n",
      "Epoch 40/100\n",
      "120/120 [==============================] - 0s 124us/step - loss: 0.4382 - accuracy: 0.9583\n",
      "Epoch 41/100\n",
      "120/120 [==============================] - 0s 133us/step - loss: 0.4324 - accuracy: 0.9000\n",
      "Epoch 42/100\n",
      "120/120 [==============================] - 0s 145us/step - loss: 0.4286 - accuracy: 0.9333\n",
      "Epoch 43/100\n",
      "120/120 [==============================] - 0s 166us/step - loss: 0.4159 - accuracy: 0.9250\n",
      "Epoch 44/100\n",
      "120/120 [==============================] - 0s 159us/step - loss: 0.4178 - accuracy: 0.9083\n",
      "Epoch 45/100\n",
      "120/120 [==============================] - 0s 145us/step - loss: 0.4115 - accuracy: 0.8500\n",
      "Epoch 46/100\n",
      "120/120 [==============================] - 0s 126us/step - loss: 0.4028 - accuracy: 0.9333\n",
      "Epoch 47/100\n",
      "120/120 [==============================] - 0s 139us/step - loss: 0.3927 - accuracy: 0.9083\n",
      "Epoch 48/100\n",
      "120/120 [==============================] - 0s 133us/step - loss: 0.3896 - accuracy: 0.9667\n",
      "Epoch 49/100\n",
      "120/120 [==============================] - 0s 140us/step - loss: 0.3804 - accuracy: 0.9667\n",
      "Epoch 50/100\n",
      "120/120 [==============================] - 0s 128us/step - loss: 0.3757 - accuracy: 0.9250\n",
      "Epoch 51/100\n",
      "120/120 [==============================] - 0s 133us/step - loss: 0.3710 - accuracy: 0.9333\n",
      "Epoch 52/100\n",
      "120/120 [==============================] - 0s 145us/step - loss: 0.3689 - accuracy: 0.9417\n",
      "Epoch 53/100\n",
      "120/120 [==============================] - 0s 134us/step - loss: 0.3548 - accuracy: 0.9500\n",
      "Epoch 54/100\n",
      "120/120 [==============================] - 0s 137us/step - loss: 0.3518 - accuracy: 0.9417\n",
      "Epoch 55/100\n",
      "120/120 [==============================] - 0s 129us/step - loss: 0.3495 - accuracy: 0.9417\n",
      "Epoch 56/100\n",
      "120/120 [==============================] - 0s 134us/step - loss: 0.3445 - accuracy: 0.9500\n",
      "Epoch 57/100\n",
      "120/120 [==============================] - 0s 145us/step - loss: 0.3368 - accuracy: 0.9500\n",
      "Epoch 58/100\n",
      "120/120 [==============================] - 0s 139us/step - loss: 0.3318 - accuracy: 0.9417\n",
      "Epoch 59/100\n",
      "120/120 [==============================] - 0s 143us/step - loss: 0.3337 - accuracy: 0.9417\n",
      "Epoch 60/100\n",
      "120/120 [==============================] - 0s 142us/step - loss: 0.3245 - accuracy: 0.9417\n",
      "Epoch 61/100\n",
      "120/120 [==============================] - 0s 154us/step - loss: 0.3207 - accuracy: 0.9667\n",
      "Epoch 62/100\n",
      "120/120 [==============================] - 0s 127us/step - loss: 0.3145 - accuracy: 0.9417\n",
      "Epoch 63/100\n",
      "120/120 [==============================] - 0s 131us/step - loss: 0.3127 - accuracy: 0.9500\n",
      "Epoch 64/100\n",
      "120/120 [==============================] - 0s 142us/step - loss: 0.3091 - accuracy: 0.9417\n",
      "Epoch 65/100\n",
      "120/120 [==============================] - 0s 162us/step - loss: 0.3057 - accuracy: 0.9417\n",
      "Epoch 66/100\n",
      "120/120 [==============================] - 0s 141us/step - loss: 0.2994 - accuracy: 0.9667\n",
      "Epoch 67/100\n",
      "120/120 [==============================] - 0s 157us/step - loss: 0.2989 - accuracy: 0.9500\n",
      "Epoch 68/100\n",
      "120/120 [==============================] - 0s 94us/step - loss: 0.2916 - accuracy: 0.9667\n",
      "Epoch 69/100\n",
      "120/120 [==============================] - 0s 75us/step - loss: 0.2914 - accuracy: 0.9250\n",
      "Epoch 70/100\n",
      "120/120 [==============================] - 0s 71us/step - loss: 0.2828 - accuracy: 0.9667\n",
      "Epoch 71/100\n",
      "120/120 [==============================] - 0s 82us/step - loss: 0.2829 - accuracy: 0.9583\n",
      "Epoch 72/100\n",
      "120/120 [==============================] - 0s 79us/step - loss: 0.2784 - accuracy: 0.9417\n",
      "Epoch 73/100\n",
      "120/120 [==============================] - 0s 71us/step - loss: 0.2785 - accuracy: 0.9250\n",
      "Epoch 74/100\n",
      "120/120 [==============================] - 0s 66us/step - loss: 0.2695 - accuracy: 0.9583\n",
      "Epoch 75/100\n",
      "120/120 [==============================] - 0s 82us/step - loss: 0.2662 - accuracy: 0.9833\n",
      "Epoch 76/100\n",
      "120/120 [==============================] - 0s 93us/step - loss: 0.2634 - accuracy: 0.9667\n",
      "Epoch 77/100\n",
      "120/120 [==============================] - 0s 89us/step - loss: 0.2643 - accuracy: 0.9667\n",
      "Epoch 78/100\n",
      "120/120 [==============================] - 0s 72us/step - loss: 0.2553 - accuracy: 0.9667\n",
      "Epoch 79/100\n",
      "120/120 [==============================] - 0s 70us/step - loss: 0.2520 - accuracy: 0.9583\n",
      "Epoch 80/100\n"
     ]
    },
    {
     "name": "stdout",
     "output_type": "stream",
     "text": [
      "120/120 [==============================] - 0s 89us/step - loss: 0.2545 - accuracy: 0.9500\n",
      "Epoch 81/100\n",
      "120/120 [==============================] - 0s 93us/step - loss: 0.2454 - accuracy: 0.9667\n",
      "Epoch 82/100\n",
      "120/120 [==============================] - 0s 90us/step - loss: 0.2499 - accuracy: 0.9583\n",
      "Epoch 83/100\n",
      "120/120 [==============================] - 0s 73us/step - loss: 0.2397 - accuracy: 0.9833\n",
      "Epoch 84/100\n",
      "120/120 [==============================] - 0s 73us/step - loss: 0.2364 - accuracy: 0.9583\n",
      "Epoch 85/100\n",
      "120/120 [==============================] - 0s 85us/step - loss: 0.2388 - accuracy: 0.9750\n",
      "Epoch 86/100\n",
      "120/120 [==============================] - 0s 80us/step - loss: 0.2344 - accuracy: 0.9667\n",
      "Epoch 87/100\n",
      "120/120 [==============================] - 0s 72us/step - loss: 0.2289 - accuracy: 0.9667\n",
      "Epoch 88/100\n",
      "120/120 [==============================] - 0s 83us/step - loss: 0.2352 - accuracy: 0.9417\n",
      "Epoch 89/100\n",
      "120/120 [==============================] - 0s 88us/step - loss: 0.2232 - accuracy: 0.9667\n",
      "Epoch 90/100\n",
      "120/120 [==============================] - 0s 78us/step - loss: 0.2259 - accuracy: 0.9833\n",
      "Epoch 91/100\n",
      "120/120 [==============================] - 0s 68us/step - loss: 0.2192 - accuracy: 0.9667\n",
      "Epoch 92/100\n",
      "120/120 [==============================] - 0s 75us/step - loss: 0.2205 - accuracy: 0.9750\n",
      "Epoch 93/100\n",
      "120/120 [==============================] - 0s 77us/step - loss: 0.2152 - accuracy: 0.9750\n",
      "Epoch 94/100\n",
      "120/120 [==============================] - 0s 90us/step - loss: 0.2198 - accuracy: 0.9667\n",
      "Epoch 95/100\n",
      "120/120 [==============================] - 0s 73us/step - loss: 0.2091 - accuracy: 0.9833\n",
      "Epoch 96/100\n",
      "120/120 [==============================] - 0s 75us/step - loss: 0.2212 - accuracy: 0.9583\n",
      "Epoch 97/100\n",
      "120/120 [==============================] - 0s 83us/step - loss: 0.2130 - accuracy: 0.9583\n",
      "Epoch 98/100\n",
      "120/120 [==============================] - 0s 83us/step - loss: 0.2042 - accuracy: 0.9750\n",
      "Epoch 99/100\n",
      "120/120 [==============================] - 0s 65us/step - loss: 0.2029 - accuracy: 0.9833\n",
      "Epoch 100/100\n",
      "120/120 [==============================] - 0s 70us/step - loss: 0.2007 - accuracy: 0.9583\n"
     ]
    },
    {
     "data": {
      "image/png": "[encoded data removed]",
      "text/plain": [
       "<Figure size 432x288 with 1 Axes>"
      ]
     },
     "metadata": {
      "needs_background": "dark"
     },
     "output_type": "display_data"
    }
   ],
   "source": [
    "# 搭建网络\n",
    "model = Sequential()\n",
    "model.add(Dense(64,input_dim=4, activation='relu'))\n",
    "model.add(Dense(3,input_dim=64,activation='softmax'))\n",
    "\n",
    "# 编译模型\n",
    "model.compile(optimizer='rmsprop',\n",
    "              loss='categorical_crossentropy',\n",
    "              metrics=['accuracy'])\n",
    "# 训练模型\n",
    "cost = model.fit(X_train,\n",
    "                 y_train,\n",
    "                 epochs=100)\n",
    "\n",
    "loss = cost.history['loss']\n",
    "epochs = range(1, len(loss) + 1)\n",
    "\n",
    "plt.plot(epochs, loss, 'bo', label='Training loss')\n",
    "plt.title('Training and validation loss')\n",
    "plt.xlabel('Epochs')\n",
    "plt.ylabel('Loss')\n",
    "plt.legend()\n",
    "plt.show()"
   ]
  },
  {
   "cell_type": "code",
   "execution_count": 18,
   "metadata": {
    "ExecuteTime": {
     "end_time": "2021-09-22T05:13:10.356702Z",
     "start_time": "2021-09-22T05:13:10.346400Z"
    }
   },
   "outputs": [
    {
     "data": {
      "text/plain": [
       "0.2007496734460195"
      ]
     },
     "execution_count": 18,
     "metadata": {},
     "output_type": "execute_result"
    }
   ],
   "source": [
    "loss[-1]"
   ]
  },
  {
   "cell_type": "code",
   "execution_count": 22,
   "metadata": {
    "ExecuteTime": {
     "end_time": "2021-09-22T05:16:31.196727Z",
     "start_time": "2021-09-22T05:16:31.183530Z"
    }
   },
   "outputs": [
    {
     "data": {
      "text/plain": [
       "array([0., 0., 0., 0., 0., 0., 0., 0., 0., 0., 1., 1., 1., 1., 1., 1., 1.,\n",
       "       1., 1., 1., 2., 2., 2., 2., 2., 2., 2., 2., 2., 2.])"
      ]
     },
     "execution_count": 22,
     "metadata": {},
     "output_type": "execute_result"
    }
   ],
   "source": [
    "test_y"
   ]
  },
  {
   "cell_type": "code",
   "execution_count": 25,
   "metadata": {
    "ExecuteTime": {
     "end_time": "2021-09-22T05:17:29.689173Z",
     "start_time": "2021-09-22T05:17:29.339459Z"
    }
   },
   "outputs": [
    {
     "data": {
      "image/png": "[encoded data removed]",
      "text/plain": [
       "<Figure size 432x288 with 2 Axes>"
      ]
     },
     "metadata": {
      "needs_background": "dark"
     },
     "output_type": "display_data"
    }
   ],
   "source": [
    "y_pred = model.predict_classes(X_test)\n",
    "\n",
    "c = confusion_matrix(test_y,y_pred,labels=[0.,1.,2.])\n",
    "sns.heatmap(c,annot=True)\n",
    "plt.show()"
   ]
  },
  {
   "cell_type": "markdown",
   "metadata": {
    "ExecuteTime": {
     "end_time": "2021-09-19T01:45:41.082919Z",
     "start_time": "2021-09-19T01:45:41.067633Z"
    }
   },
   "source": [
    "# 增加层数"
   ]
  },
  {
   "cell_type": "code",
   "execution_count": 30,
   "metadata": {
    "ExecuteTime": {
     "end_time": "2021-09-22T05:20:39.515299Z",
     "start_time": "2021-09-22T05:20:35.866722Z"
    }
   },
   "outputs": [
    {
     "data": {
      "image/png": "[encoded data removed]",
      "text/plain": [
       "<Figure size 432x288 with 1 Axes>"
      ]
     },
     "metadata": {
      "needs_background": "dark"
     },
     "output_type": "display_data"
    }
   ],
   "source": [
    "# 搭建网络\n",
    "model = Sequential()\n",
    "model.add(Dense(8,input_dim=4, activation='relu'))\n",
    "model.add(Dense(32,input_dim=8,activation='relu'))\n",
    "model.add(Dense(64,input_dim=32,activation='relu'))\n",
    "model.add(Dense(8,input_dim = 64,activation='relu'))\n",
    "model.add(Dense(3,input_dim=64,activation='softmax'))\n",
    "\n",
    "# 编译模型\n",
    "model.compile(optimizer='rmsprop',\n",
    "              loss='categorical_crossentropy',\n",
    "              metrics=['accuracy'])\n",
    "# 训练模型\n",
    "cost = model.fit(X_train,\n",
    "                 y_train,\n",
    "                 epochs=100,\n",
    "                 verbose=0)\n",
    "\n",
    "loss = cost.history['loss']\n",
    "epochs = range(1, len(loss) + 1)\n",
    "\n",
    "plt.plot(epochs, loss, 'bo', label='Training loss')\n",
    "plt.title('Training loss')\n",
    "plt.xlabel('Epochs')\n",
    "plt.ylabel('Loss')\n",
    "plt.legend()\n",
    "plt.show()"
   ]
  },
  {
   "cell_type": "code",
   "execution_count": 31,
   "metadata": {
    "ExecuteTime": {
     "end_time": "2021-09-22T05:20:42.863647Z",
     "start_time": "2021-09-22T05:20:42.843919Z"
    }
   },
   "outputs": [
    {
     "data": {
      "text/plain": [
       "0.10049996972084045"
      ]
     },
     "execution_count": 31,
     "metadata": {},
     "output_type": "execute_result"
    }
   ],
   "source": [
    "loss[-1]"
   ]
  },
  {
   "cell_type": "code",
   "execution_count": 32,
   "metadata": {
    "ExecuteTime": {
     "end_time": "2021-09-22T05:20:46.613422Z",
     "start_time": "2021-09-22T05:20:45.761124Z"
    }
   },
   "outputs": [
    {
     "data": {
      "image/png": "[encoded data removed]",
      "text/plain": [
       "<Figure size 432x288 with 2 Axes>"
      ]
     },
     "metadata": {
      "needs_background": "dark"
     },
     "output_type": "display_data"
    }
   ],
   "source": [
    "y_pred = model.predict_classes(X_test)\n",
    "c = confusion_matrix(test_y,y_pred,labels=[0.,1.,2.])\n",
    "sns.heatmap(c,annot=True)\n",
    "plt.show()"
   ]
  },
  {
   "cell_type": "raw",
   "metadata": {},
   "source": [
    "过拟合"
   ]
  },
  {
   "cell_type": "markdown",
   "metadata": {},
   "source": [
    "## 增加层数同时减少迭代次数"
   ]
  },
  {
   "cell_type": "code",
   "execution_count": 33,
   "metadata": {
    "ExecuteTime": {
     "end_time": "2021-09-22T05:21:43.974552Z",
     "start_time": "2021-09-22T05:20:58.076751Z"
    }
   },
   "outputs": [
    {
     "data": {
      "image/png": "[encoded data removed]",
      "text/plain": [
       "<Figure size 432x288 with 1 Axes>"
      ]
     },
     "metadata": {
      "needs_background": "dark"
     },
     "output_type": "display_data"
    }
   ],
   "source": [
    "# 搭建网络\n",
    "losses = []\n",
    "epochs = [5,10,20,30,50,75,100,125,150,175,200]\n",
    "\n",
    "for epoch in epochs:\n",
    "    model = Sequential()\n",
    "    model.add(Dense(8,input_dim=4, activation='relu'))\n",
    "    model.add(Dense(32,input_dim=8,activation='relu'))\n",
    "    model.add(Dense(64,input_dim=32,activation='relu'))\n",
    "    model.add(Dense(3,input_dim=64,activation='softmax'))\n",
    "\n",
    "    # 编译模型\n",
    "    model.compile(optimizer='rmsprop',\n",
    "              loss='categorical_crossentropy',\n",
    "              metrics=['accuracy'])\n",
    "# 训练模型\n",
    "    cost = model.fit(X_train,\n",
    "                 y_train,\n",
    "                 epochs=epoch,verbose=0)\n",
    "\n",
    "    losses.append(cost.history['loss'][-1])\n",
    "    \n",
    "\n",
    "plt.plot(epochs, losses, 'bo', label='Training loss')\n",
    "plt.title('Training loss')\n",
    "plt.xlabel('Epochs')\n",
    "plt.ylabel('Loss')\n",
    "plt.legend()\n",
    "plt.show()"
   ]
  },
  {
   "cell_type": "code",
   "execution_count": 34,
   "metadata": {
    "ExecuteTime": {
     "end_time": "2021-09-22T05:22:22.034314Z",
     "start_time": "2021-09-22T05:22:20.801030Z"
    }
   },
   "outputs": [
    {
     "data": {
      "image/png": "[encoded data removed]",
      "text/plain": [
       "<Figure size 432x288 with 2 Axes>"
      ]
     },
     "metadata": {
      "needs_background": "dark"
     },
     "output_type": "display_data"
    }
   ],
   "source": [
    "y_pred = model.predict_classes(X_test)\n",
    "c = confusion_matrix(test_y,y_pred,labels=[0.,1.,2.])\n",
    "sns.heatmap(c,annot=True)\n",
    "plt.show()"
   ]
  },
  {
   "cell_type": "markdown",
   "metadata": {},
   "source": [
    "# 增加神经元"
   ]
  },
  {
   "cell_type": "code",
   "execution_count": 35,
   "metadata": {
    "ExecuteTime": {
     "end_time": "2021-09-22T05:22:54.929271Z",
     "start_time": "2021-09-22T05:22:33.183956Z"
    }
   },
   "outputs": [
    {
     "data": {
      "image/png": "[encoded data removed]",
      "text/plain": [
       "<Figure size 432x288 with 1 Axes>"
      ]
     },
     "metadata": {
      "needs_background": "dark"
     },
     "output_type": "display_data"
    }
   ],
   "source": [
    "# 搭建网络\n",
    "hiddens = [8, 16, 32, 64, 128]\n",
    "losses = []\n",
    "for hidden in hiddens:\n",
    "    model = Sequential()\n",
    "    model.add(Dense(hidden, input_dim=4, activation='relu'))\n",
    "    model.add(Dense(3, input_dim=hidden, activation='softmax'))\n",
    "\n",
    "    # 编译模型\n",
    "    model.compile(optimizer='rmsprop',\n",
    "                  loss='categorical_crossentropy',\n",
    "                  metrics=['accuracy'])\n",
    "    # 训练模型\n",
    "    cost = model.fit(X_train, y_train, epochs=50, verbose=0)\n",
    "\n",
    "    losses.append(cost.history['loss'][-1])\n",
    "\n",
    "plt.plot(hiddens, losses, label='Training loss')\n",
    "plt.title('Training loss')\n",
    "plt.xlabel('Hiddens')\n",
    "plt.ylabel('Loss')\n",
    "plt.legend()\n",
    "plt.show()"
   ]
  },
  {
   "cell_type": "code",
   "execution_count": 36,
   "metadata": {
    "ExecuteTime": {
     "end_time": "2021-09-22T05:22:56.110988Z",
     "start_time": "2021-09-22T05:22:54.933851Z"
    }
   },
   "outputs": [
    {
     "data": {
      "image/png": "[encoded data removed]",
      "text/plain": [
       "<Figure size 432x288 with 2 Axes>"
      ]
     },
     "metadata": {
      "needs_background": "dark"
     },
     "output_type": "display_data"
    }
   ],
   "source": [
    "y_pred = model.predict_classes(X_test)\n",
    "c = confusion_matrix(test_y,y_pred,labels=[0.,1.,2.])\n",
    "sns.heatmap(c,annot=True)\n",
    "plt.show()"
   ]
  },
  {
   "cell_type": "markdown",
   "metadata": {},
   "source": [
    "# 改变优化函数"
   ]
  },
  {
   "cell_type": "code",
   "execution_count": 12,
   "metadata": {
    "ExecuteTime": {
     "end_time": "2021-09-22T05:08:29.625158Z",
     "start_time": "2021-09-22T05:08:15.552993Z"
    }
   },
   "outputs": [
    {
     "data": {
      "image/png": "[encoded data removed]",
      "text/plain": [
       "<Figure size 432x288 with 1 Axes>"
      ]
     },
     "metadata": {
      "needs_background": "dark"
     },
     "output_type": "display_data"
    },
    {
     "data": {
      "image/png": "[encoded data removed]",
      "text/plain": [
       "<Figure size 432x288 with 1 Axes>"
      ]
     },
     "metadata": {
      "needs_background": "dark"
     },
     "output_type": "display_data"
    }
   ],
   "source": [
    "# 搭建网络\n",
    "opts = ['rmsprop', 'adam', 'sgd', 'adagrad', 'adadelta']\n",
    "losses = []\n",
    "for opt in opts:\n",
    "    model = Sequential()\n",
    "    model.add(Dense(64, input_dim=4, activation='relu'))\n",
    "    model.add(Dense(3, input_dim=64, activation='softmax'))\n",
    "\n",
    "    # 编译模型\n",
    "    model.compile(optimizer=opt,\n",
    "                  loss='categorical_crossentropy',\n",
    "                  metrics=['accuracy'])\n",
    "    # 训练模型\n",
    "    cost = model.fit(X_train, y_train, epochs=50, verbose=0)\n",
    "\n",
    "    losses.append(cost.history['loss'][-1])\n",
    "    loss = cost.history['loss']\n",
    "    epochs = range(1, 50 + 1)\n",
    "    plt.plot(epochs, loss, label='%s' % opt)\n",
    "\n",
    "plt.title('Training loss with Different Optimizers')\n",
    "plt.xlabel('Epochs')\n",
    "plt.ylabel('Loss')\n",
    "plt.legend()\n",
    "plt.show()\n",
    "\n",
    "plt.bar(opts, losses)\n",
    "plt.title('Last Training loss')\n",
    "plt.xlabel('Optimizers')\n",
    "plt.ylabel('Loss')\n",
    "plt.show()"
   ]
  },
  {
   "cell_type": "code",
   "execution_count": null,
   "metadata": {},
   "outputs": [],
   "source": []
  }
 ],
 "metadata": {
  "kernelspec": {
   "display_name": "Python 3",
   "language": "python",
   "name": "python3"
  },
  "language_info": {
   "codemirror_mode": {
    "name": "ipython",
    "version": 3
   },
   "file_extension": ".py",
   "mimetype": "text/x-python",
   "name": "python",
   "nbconvert_exporter": "python",
   "pygments_lexer": "ipython3",
   "version": "3.7.6"
  },
  "latex_envs": {
   "LaTeX_envs_menu_present": true,
   "autoclose": false,
   "autocomplete": true,
   "bibliofile": "biblio.bib",
   "cite_by": "apalike",
   "current_citInitial": 1,
   "eqLabelWithNumbers": true,
   "eqNumInitial": 1,
   "hotkeys": {
    "equation": "Ctrl-E",
    "itemize": "Ctrl-I"
   },
   "labels_anchors": false,
   "latex_user_defs": false,
   "report_style_numbering": false,
   "user_envs_cfg": false
  },
  "toc": {
   "base_numbering": 1,
   "nav_menu": {},
   "number_sections": true,
   "sideBar": true,
   "skip_h1_title": false,
   "title_cell": "Table of Contents",
   "title_sidebar": "Contents",
   "toc_cell": false,
   "toc_position": {},
   "toc_section_display": true,
   "toc_window_display": false
  }
 },
 "nbformat": 4,
 "nbformat_minor": 4
}
