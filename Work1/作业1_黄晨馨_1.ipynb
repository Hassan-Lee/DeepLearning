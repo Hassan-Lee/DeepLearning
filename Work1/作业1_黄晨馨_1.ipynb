{
 "cells": [
  {
   "cell_type": "code",
   "execution_count": 78,
   "metadata": {},
   "outputs": [],
   "source": [
    "import numpy as np\n",
    "import matplotlib.pyplot as plt"
   ]
  },
  {
   "cell_type": "code",
   "execution_count": 79,
   "metadata": {},
   "outputs": [],
   "source": [
    "class Optimization:\n",
    "    def __init__(self,Max_iter=500,eps_tol=1e-8,learning_rate = 0.02):\n",
    "        self.Max_iter = Max_iter \n",
    "        self.eps_tol = eps_tol\n",
    "        self.learning_rate = learning_rate\n",
    "        print('The Max_iter is :',Max_iter,'\\n',\n",
    "              'The eps_tol is :',eps_tol)\n",
    "        print('************************')\n",
    "        \n",
    "    # 传统梯度下降\n",
    "    def gradient(self,init_x,obj_f,grad_f):\n",
    "        print('您正在使用传统梯度下降算法')\n",
    "        iter_x = init_x\n",
    "        obj_curr = obj_f(iter_x)\n",
    "        # 记录位置与函数值\n",
    "        local = iter_x\n",
    "        values = [obj_curr]\n",
    "        \n",
    "        for iter_num in range(self.Max_iter):\n",
    "            # compute the gradient \n",
    "            grad_iter = grad_f(iter_x)\n",
    "            # compute the direction\n",
    "            desc_dir = -1*grad_iter\n",
    "            # compute the learning_rate（‘学习率’）\n",
    "            learning_rate = self.learning_rate\n",
    "            # next point\n",
    "            x_last = iter_x\n",
    "            iter_x = iter_x+learning_rate*desc_dir\n",
    "            # the obj_fun of new point\n",
    "            obj_last = obj_curr\n",
    "            obj_curr = obj_f(iter_x)\n",
    "            \n",
    "            local = np.hstack([local,iter_x])\n",
    "            values.append(obj_curr)\n",
    "            \n",
    "            if np.abs(obj_last-obj_curr) <= self.eps_tol:\n",
    "                break\n",
    "        print('the number of iterations is:',iter_num,'\\n',\n",
    "              'the end point is:','\\n',iter_x)\n",
    "        return local,values,values[-1]"
   ]
  },
  {
   "cell_type": "code",
   "execution_count": 80,
   "metadata": {},
   "outputs": [],
   "source": [
    "def obj_func(x:np.mat):\n",
    "    n = len(x)\n",
    "    t = np.arange(1,n + 1)*0.1\n",
    "    y = np.exp(-t) - 5*np.exp((-10)*t) + 3*np.exp((-4)*t)\n",
    "    t_vect = np.mat(t).T\n",
    "    y_vect = np.mat(y).T\n",
    "    \n",
    "    r_vect = np.zeros(x.shape)\n",
    "    for i in range(n):#6\n",
    "        r_vect[i] = x[2]*np.exp((-1)*t_vect[i]*x[0]) - x[3]*np.exp((-1)*t_vect[i]*x[1]) + x[5]*np.exp((-1)*t_vect[i]*x[4]) - y_vect[i]\n",
    "        \n",
    "    obj_val = float(sum(np.power(r_vect,2)))\n",
    "    return obj_val\n",
    "\n",
    "def grad_func(x:np.mat):\n",
    "    n = len(x)\n",
    "    t = np.arange(1,n + 1)*0.1\n",
    "    y = np.exp(-t) - 5*np.exp((-10)*t) + 3*np.exp((-4)*t)\n",
    "    t_vect = np.mat(t).T\n",
    "    y_vect = np.mat(y).T\n",
    "    \n",
    "    r_mat = np.zeros((n,n))\n",
    "    r_vect = np.zeros(x.shape)\n",
    "    for i in range(n):\n",
    "        r_vect[i] = x[2]*np.exp((-1)*t_vect[i]*x[0]) - x[3]*np.exp((-1)*t_vect[i]*x[1]) + x[5]*np.exp((-1)*t_vect[i]*x[4]) - y_vect[i]\n",
    "        r_mat[i][0] = 2*r_vect[i]*((-1)*t_vect[i]*x[2]*np.exp((-1)*t_vect[i]*x[0]))\n",
    "        r_mat[i][1] = 2*r_vect[i]*((-1)*t_vect[i]*x[3]*np.exp((-1)*t_vect[i]*x[1]))\n",
    "        r_mat[i][2] = 2*r_vect[i]*np.exp((-1)*t_vect[i]*x[0])\n",
    "        r_mat[i][3] = 2*r_vect[i]*(-1)*(np.exp((-1)*t_vect[1]*x[0]))\n",
    "        r_mat[i][4] = 2*r_vect[i]*((-1)*t_vect[i]*x[5]*np.exp((-1)*t_vect[i]*x[4]))\n",
    "        r_mat[i][5] = 2*r_vect[i]*np.exp((-1)*t_vect[i]*x[4])\n",
    "\n",
    "    grad_vect = np.mat(np.sum(r_mat,axis=0)).T#按列求和\n",
    "    return grad_vect"
   ]
  },
  {
   "cell_type": "code",
   "execution_count": 85,
   "metadata": {},
   "outputs": [
    {
     "name": "stdout",
     "output_type": "stream",
     "text": [
      "The Max_iter is : 500 \n",
      " The eps_tol is : 1e-08\n",
      "************************\n",
      "您正在使用传统梯度下降算法\n",
      "the number of iterations is: 166 \n",
      " the end point is: \n",
      " [[1.00520121]\n",
      " [1.92916517]\n",
      " [1.16340806]\n",
      " [0.93736501]\n",
      " [1.00520121]\n",
      " [1.16340806]]\n",
      "5.0765272765262496e-06\n"
     ]
    },
    {
     "data": {
      "image/png": "[encoded data removed]",
      "text/plain": [
       "<Figure size 720x288 with 1 Axes>"
      ]
     },
     "metadata": {
      "needs_background": "light"
     },
     "output_type": "display_data"
    }
   ],
   "source": [
    "x_init = np.mat([1,2,1,1,1,1]).T\n",
    "best_x = np.mat([52.36174141,1.96594411,42.67111508,-2.62854716,15.24979306,-6.01988519]).T \n",
    "\n",
    "# print(x_init[4])\n",
    "Opt = Optimization()\n",
    "local,f,f_x = Opt.gradient(x_init,obj_func,grad_func)\n",
    "# print(f_x)\n",
    "print(obj_func(best_x))\n",
    "x = np.squeeze(np.array(local[0,:]))\n",
    "y = np.squeeze(np.array(local[1,:]))\n",
    "\n",
    "fig = plt.figure(figsize=(10,4))\n",
    "plt.title('The effects of different optimization methods')\n",
    "plt.plot(list(range(len(f))),f,label='Gradient')\n",
    "plt.xlabel('number of iteration')\n",
    "plt.ylabel('value of funciton')\n",
    "plt.legend()\n",
    "plt.show()"
   ]
  },
  {
   "cell_type": "code",
   "execution_count": null,
   "metadata": {},
   "outputs": [],
   "source": []
  }
 ],
 "metadata": {
  "kernelspec": {
   "display_name": "Python 3",
   "language": "python",
   "name": "python3"
  },
  "language_info": {
   "codemirror_mode": {
    "name": "ipython",
    "version": 3
   },
   "file_extension": ".py",
   "mimetype": "text/x-python",
   "name": "python",
   "nbconvert_exporter": "python",
   "pygments_lexer": "ipython3",
   "version": "3.8.3"
  }
 },
 "nbformat": 4,
 "nbformat_minor": 4
}
