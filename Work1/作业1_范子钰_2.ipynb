{
 "cells": [
  {
   "cell_type": "code",
   "execution_count": 4,
   "metadata": {
    "ExecuteTime": {
     "end_time": "2021-09-23T12:05:30.246852Z",
     "start_time": "2021-09-23T12:05:30.232520Z"
    }
   },
   "outputs": [],
   "source": [
    "import numpy as np"
   ]
  },
  {
   "cell_type": "code",
   "execution_count": 5,
   "metadata": {
    "ExecuteTime": {
     "end_time": "2021-09-23T12:05:30.946574Z",
     "start_time": "2021-09-23T12:05:30.919006Z"
    }
   },
   "outputs": [],
   "source": [
    "def func_sa(x):\n",
    "    x1,x2,x3,x4,x5,x6 = x[0],x[1],x[2],x[3],x[4],x[5]\n",
    "    res = 0\n",
    "    for i in range(1,7):\n",
    "        r = x3 * np.e**(-0.1 * i * x1) - x4 * np.e**(\n",
    "        -0.1 * i * x2) + x6 * np.e**(-0.1 * i * x5) - (np.e**(\n",
    "            -0.1 * i) - 5 * np.e**(-10 * 0.1 * i) + 3 * np.e**(-4 * 0.1 * i))\n",
    "        res  = res + r * r\n",
    "    return res"
   ]
  },
  {
   "cell_type": "code",
   "execution_count": 6,
   "metadata": {
    "ExecuteTime": {
     "end_time": "2021-09-23T12:05:32.581343Z",
     "start_time": "2021-09-23T12:05:31.452181Z"
    }
   },
   "outputs": [
    {
     "name": "stdout",
     "output_type": "stream",
     "text": [
      "best_x: [ 1.55946784 33.47319028  2.14848346 32.68109831 43.88480893 31.13027892] best_y 0.007148106835096443\n"
     ]
    }
   ],
   "source": [
    "from sko.SA import SA\n",
    "\n",
    "sa = SA(func=func_sa, x0=[1,2,1,1,1,1], T_max=1, T_min=1e-9, L=300, max_stay_counter=150)\n",
    "best_x, best_y = sa.run()\n",
    "print('best_x:', best_x, 'best_y', best_y)"
   ]
  },
  {
   "cell_type": "code",
   "execution_count": 7,
   "metadata": {
    "ExecuteTime": {
     "end_time": "2021-09-23T12:05:32.615873Z",
     "start_time": "2021-09-23T12:05:32.586427Z"
    }
   },
   "outputs": [
    {
     "data": {
      "text/plain": [
       "5.076527276526377e-06"
      ]
     },
     "execution_count": 7,
     "metadata": {},
     "output_type": "execute_result"
    }
   ],
   "source": [
    "func_sa([52.36174141,1.96594411,42.67111508,-2.62854716,15.24979306,-6.01988519])"
   ]
  }
 ],
 "metadata": {
  "kernelspec": {
   "display_name": "Python 3",
   "language": "python",
   "name": "python3"
  },
  "language_info": {
   "codemirror_mode": {
    "name": "ipython",
    "version": 3
   },
   "file_extension": ".py",
   "mimetype": "text/x-python",
   "name": "python",
   "nbconvert_exporter": "python",
   "pygments_lexer": "ipython3",
   "version": "3.7.6"
  },
  "latex_envs": {
   "LaTeX_envs_menu_present": true,
   "autoclose": false,
   "autocomplete": true,
   "bibliofile": "biblio.bib",
   "cite_by": "apalike",
   "current_citInitial": 1,
   "eqLabelWithNumbers": true,
   "eqNumInitial": 1,
   "hotkeys": {
    "equation": "Ctrl-E",
    "itemize": "Ctrl-I"
   },
   "labels_anchors": false,
   "latex_user_defs": false,
   "report_style_numbering": false,
   "user_envs_cfg": false
  },
  "toc": {
   "base_numbering": 1,
   "nav_menu": {},
   "number_sections": true,
   "sideBar": true,
   "skip_h1_title": false,
   "title_cell": "Table of Contents",
   "title_sidebar": "Contents",
   "toc_cell": false,
   "toc_position": {},
   "toc_section_display": true,
   "toc_window_display": false
  }
 },
 "nbformat": 4,
 "nbformat_minor": 4
}
